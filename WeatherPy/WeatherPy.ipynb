{
 "cells": [
  {
   "cell_type": "markdown",
   "metadata": {},
   "source": [
    "# WeatherPy\n",
    "----\n",
    "\n",
    "#### Note\n",
    "* Instructions have been included for each segment. You do not have to follow them exactly, but they are included to help you think through the steps."
   ]
  },
  {
   "cell_type": "markdown",
   "metadata": {},
   "source": [
    "# Observations:\n",
    "\n",
    "1. The Climate in the Southern Hemispheres appear not to be as harsh as the climate in the Northern Hemisphere on the same latitude looking at the maximum temperatures, cloudiness, humidity and wind speed.\n",
    "\n",
    "2. We can also observe that the Latitude did not have a strong influence and correlation on the wind speed and cloudiness in both the southern and northern hemisphere because the strength of the correlation was very weak.\n",
    "\n",
    "3. The highest temperature can be found at 0 latitude and the temperature drops at the increase or decrease of the latitude. However the temperature dips more(decreases) when the latitude increases.\n",
    "\n"
   ]
  },
  {
   "cell_type": "code",
   "execution_count": 76,
   "metadata": {
    "scrolled": true
   },
   "outputs": [],
   "source": [
    "# Dependencies and Setup\n",
    "import os \n",
    "import csv\n",
    "import matplotlib.pyplot as plt\n",
    "import pandas as pd\n",
    "import numpy as np\n",
    "import requests\n",
    "import time\n",
    "from scipy.stats import linregress\n",
    "import json\n",
    "import datetime \n",
    "\n",
    "# Import API key\n",
    "from api_keys import weather_api_key\n",
    "\n",
    "# Incorporated citipy to determine city based on latitude and longitude\n",
    "from citipy import citipy\n",
    "\n",
    "# Output File (CSV)\n",
    "output_data_file = \"output_data/cities.csv\"\n",
    "\n",
    "# Range of latitudes and longitudes\n",
    "lat_range = (-90, 90)\n",
    "lng_range = (-180, 180)"
   ]
  },
  {
   "cell_type": "markdown",
   "metadata": {},
   "source": [
    "## Generate Cities List"
   ]
  },
  {
   "cell_type": "code",
   "execution_count": 35,
   "metadata": {},
   "outputs": [
    {
     "data": {
      "text/plain": [
       "587"
      ]
     },
     "execution_count": 35,
     "metadata": {},
     "output_type": "execute_result"
    }
   ],
   "source": [
    "# List for holding lat_lngs and cities\n",
    "lat_lngs = []\n",
    "cities = []\n",
    "\n",
    "# Create a set of random lat and lng combinations\n",
    "lats = np.random.uniform(lat_range[0], lat_range[1], size=1500)\n",
    "lngs = np.random.uniform(lng_range[0], lng_range[1], size=1500)\n",
    "lat_lngs = zip(lats, lngs)\n",
    "\n",
    "# Identify nearest city for each lat, lng combination\n",
    "for lat_lng in lat_lngs:\n",
    "    city = citipy.nearest_city(lat_lng[0], lat_lng[1]).city_name\n",
    "    \n",
    "    # If the city is unique, then add it to a our cities list\n",
    "    if city not in cities:\n",
    "        cities.append(city)\n",
    "\n",
    "# Print the city count to confirm sufficient count\n",
    "len(cities)"
   ]
  },
  {
   "cell_type": "markdown",
   "metadata": {},
   "source": [
    "### Perform API Calls\n",
    "* Perform a weather check on each city using a series of successive API calls.\n",
    "* Include a print log of each city as it'sbeing processed (with the city number and city name).\n"
   ]
  },
  {
   "cell_type": "code",
   "execution_count": 75,
   "metadata": {},
   "outputs": [],
   "source": [
    "# print(weather_api_key)"
   ]
  },
  {
   "cell_type": "code",
   "execution_count": 37,
   "metadata": {
    "scrolled": true
   },
   "outputs": [
    {
     "name": "stdout",
     "output_type": "stream",
     "text": [
      "e48190d89d62c2cdfcb0c9e10bc65ed2\n",
      "{\n",
      "    \"coord\": {\n",
      "        \"lon\": -82.27,\n",
      "        \"lat\": 40.82\n",
      "    },\n",
      "    \"weather\": [\n",
      "        {\n",
      "            \"id\": 803,\n",
      "            \"main\": \"Clouds\",\n",
      "            \"description\": \"broken clouds\",\n",
      "            \"icon\": \"04d\"\n",
      "        }\n",
      "    ],\n",
      "    \"base\": \"stations\",\n",
      "    \"main\": {\n",
      "        \"temp\": 38.82,\n",
      "        \"feels_like\": 29.95,\n",
      "        \"temp_min\": 37.4,\n",
      "        \"temp_max\": 39.99,\n",
      "        \"pressure\": 1017,\n",
      "        \"humidity\": 100\n",
      "    },\n",
      "    \"visibility\": 10000,\n",
      "    \"wind\": {\n",
      "        \"speed\": 11.41,\n",
      "        \"deg\": 310\n",
      "    },\n",
      "    \"clouds\": {\n",
      "        \"all\": 75\n",
      "    },\n",
      "    \"dt\": 1604063242,\n",
      "    \"sys\": {\n",
      "        \"type\": 1,\n",
      "        \"id\": 4873,\n",
      "        \"country\": \"US\",\n",
      "        \"sunrise\": 1604059066,\n",
      "        \"sunset\": 1604096850\n",
      "    },\n",
      "    \"timezone\": -14400,\n",
      "    \"id\": 5146062,\n",
      "    \"name\": \"Ashland\",\n",
      "    \"cod\": 200\n",
      "}\n"
     ]
    }
   ],
   "source": [
    " # Save config information.\n",
    "base_url = \"http://api.openweathermap.org/data/2.5/weather?\"\n",
    "units = \"imperial\"\n",
    "print(weather_api_key)\n",
    "# Build partial query URL\n",
    "query_url = f\"{base_url}APPID={weather_api_key}&units={units}&q=\"\n",
    "\n",
    " # Get weather data\n",
    "weather_response = requests.get(query_url + city).json()\n",
    "print(json.dumps(weather_response, indent=4))\n"
   ]
  },
  {
   "cell_type": "code",
   "execution_count": 38,
   "metadata": {},
   "outputs": [
    {
     "name": "stdout",
     "output_type": "stream",
     "text": [
      "{'coord': {'lon': -82.27, 'lat': 40.82}, 'weather': [{'id': 803, 'main': 'Clouds', 'description': 'broken clouds', 'icon': '04d'}], 'base': 'stations', 'main': {'temp': 38.82, 'feels_like': 29.95, 'temp_min': 37.4, 'temp_max': 39.99, 'pressure': 1017, 'humidity': 100}, 'visibility': 10000, 'wind': {'speed': 11.41, 'deg': 310}, 'clouds': {'all': 75}, 'dt': 1604063242, 'sys': {'type': 1, 'id': 4873, 'country': 'US', 'sunrise': 1604059066, 'sunset': 1604096850}, 'timezone': -14400, 'id': 5146062, 'name': 'Ashland', 'cod': 200}\n"
     ]
    }
   ],
   "source": [
    "print(requests.get(query_url + city).json())"
   ]
  },
  {
   "cell_type": "code",
   "execution_count": 39,
   "metadata": {},
   "outputs": [
    {
     "name": "stdout",
     "output_type": "stream",
     "text": [
      "Begining Data Retrieval \n",
      "-----------------------\n",
      "City not found. Skipping...\n",
      "Processing Record 1 | Bredasdorp\n",
      "Processing Record 2 | New Norfolk\n",
      "Processing Record 3 | Sambava\n",
      "Processing Record 4 | Busselton\n",
      "Processing Record 5 | Rikitea\n",
      "Processing Record 6 | Berea\n",
      "Processing Record 7 | Palmer\n",
      "Processing Record 8 | Lagoa\n",
      "City not found. Skipping...\n",
      "Processing Record 9 | Clyde River\n",
      "Processing Record 10 | Airai\n",
      "Processing Record 11 | Ushuaia\n",
      "Processing Record 12 | Quatre Cocos\n",
      "Processing Record 13 | Mataura\n",
      "City not found. Skipping...\n",
      "Processing Record 14 | Pinawa\n",
      "Processing Record 15 | São Filipe\n",
      "Processing Record 16 | Talcahuano\n",
      "Processing Record 17 | Moa\n",
      "Processing Record 18 | Teya\n",
      "Processing Record 19 | Hay River\n",
      "Processing Record 20 | Leningradskiy\n",
      "Processing Record 21 | Narsaq\n",
      "Processing Record 22 | Yellowknife\n",
      "Processing Record 23 | Diré\n",
      "Processing Record 24 | Ilo\n",
      "City not found. Skipping...\n",
      "Processing Record 25 | Arlit\n",
      "Processing Record 26 | Jamestown\n",
      "Processing Record 27 | Alofi\n",
      "Processing Record 28 | Houma\n",
      "City not found. Skipping...\n",
      "Processing Record 29 | Punta Arenas\n",
      "Processing Record 30 | Barrow\n",
      "Processing Record 31 | Kattivākkam\n",
      "Processing Record 32 | Kenai\n",
      "Processing Record 33 | Lompoc\n",
      "Processing Record 34 | Ciudad Bolivar\n",
      "Processing Record 35 | Olafsvik\n",
      "Processing Record 36 | Zmeinogorsk\n",
      "Processing Record 37 | Hermanus\n",
      "Processing Record 38 | Dwārka\n",
      "Processing Record 39 | Camacha\n",
      "Processing Record 40 | Kawalu\n",
      "City not found. Skipping...\n",
      "Processing Record 41 | Vaini\n",
      "Processing Record 42 | Ericeira\n",
      "Processing Record 43 | Provideniya\n",
      "Processing Record 44 | Pampierstad\n",
      "Processing Record 45 | Srednekolymsk\n",
      "Processing Record 46 | Karratha\n",
      "Processing Record 47 | Pangnirtung\n",
      "Processing Record 48 | Marzuq\n",
      "Processing Record 49 | Lorengau\n",
      "Processing Record 50 | Flin Flon\n",
      "Processing Record 51 | Port Elizabeth\n",
      "Processing Record 52 | Coquimbo\n",
      "Processing Record 53 | Kaitangata\n",
      "Processing Record 54 | Bluff\n",
      "Processing Record 55 | Ankara\n",
      "City not found. Skipping...\n",
      "Processing Record 56 | Campbell River\n",
      "Processing Record 57 | Saint-Philippe\n",
      "Processing Record 58 | Kapaa\n",
      "Processing Record 59 | North Bend\n",
      "Processing Record 60 | Atuona\n",
      "Processing Record 61 | Saint George\n",
      "Processing Record 62 | Nago\n",
      "Processing Record 63 | Albany\n",
      "City not found. Skipping...\n",
      "Processing Record 64 | Zhigansk\n",
      "Processing Record 65 | Port Alfred\n",
      "Processing Record 66 | Port Hedland\n",
      "Processing Record 67 | Esil\n",
      "City not found. Skipping...\n",
      "Processing Record 68 | Tuatapere\n",
      "Processing Record 69 | Ponta do Sol\n",
      "Processing Record 70 | Pyaozerskiy\n",
      "Processing Record 71 | Nyurba\n",
      "Processing Record 72 | Gimli\n",
      "Processing Record 73 | Guerrero Negro\n",
      "Processing Record 74 | Faanui\n",
      "Processing Record 75 | Franklin\n",
      "Processing Record 76 | Vestmannaeyjar\n",
      "Processing Record 77 | Dali\n",
      "Processing Record 78 | Tuktoyaktuk\n",
      "Processing Record 79 | Karpogory\n",
      "Processing Record 80 | Cidreira\n",
      "Processing Record 81 | Hobart\n",
      "City not found. Skipping...\n",
      "Processing Record 82 | Hasaki\n",
      "Processing Record 83 | Skibbereen\n",
      "Processing Record 84 | Bathsheba\n",
      "Processing Record 85 | Jalu\n",
      "Processing Record 86 | Kedrovyy\n",
      "Processing Record 87 | Ponta Delgada\n",
      "Processing Record 88 | Tegul'det\n",
      "Processing Record 89 | Brae\n",
      "Processing Record 90 | Fernie\n",
      "Processing Record 91 | Iqaluit\n",
      "Processing Record 92 | Maridi\n",
      "City not found. Skipping...\n",
      "Processing Record 93 | Birjand\n",
      "Processing Record 94 | Vao\n",
      "Processing Record 95 | Jiangkou\n",
      "Processing Record 96 | Betanzos\n",
      "Processing Record 97 | Qaanaaq\n",
      "Processing Record 98 | Upernavik\n",
      "Processing Record 99 | George Town\n",
      "Processing Record 100 | Talnakh\n",
      "Processing Record 101 | Hilo\n",
      "Processing Record 102 | Ketchikan\n",
      "Processing Record 103 | Sitka\n",
      "City not found. Skipping...\n",
      "Processing Record 104 | Nabire\n",
      "Processing Record 105 | Saskylakh\n",
      "Processing Record 106 | Creston\n",
      "City not found. Skipping...\n",
      "Processing Record 107 | Salisbury\n",
      "Processing Record 108 | East London\n",
      "Processing Record 109 | Dukat\n",
      "Processing Record 110 | Doha\n",
      "Processing Record 111 | Raudeberg\n",
      "Processing Record 112 | Thompson\n",
      "Processing Record 113 | Carnarvon\n",
      "City not found. Skipping...\n",
      "Processing Record 114 | Ambilobe\n",
      "Processing Record 115 | Matai\n",
      "Processing Record 116 | Maţāy\n",
      "Processing Record 117 | Makkah al Mukarramah\n",
      "Processing Record 118 | Wichita Falls\n",
      "Processing Record 119 | Udarnyy\n",
      "Processing Record 120 | Örnsköldsvik\n",
      "City not found. Skipping...\n",
      "Processing Record 121 | Puerto Ayora\n",
      "Processing Record 122 | Zdvinsk\n",
      "Processing Record 123 | Dikson\n",
      "Processing Record 124 | San Cristobal\n",
      "Processing Record 125 | Andros Town\n",
      "Processing Record 126 | Kloulklubed\n",
      "Processing Record 127 | Sittwe\n",
      "Processing Record 128 | Manadhoo\n",
      "City not found. Skipping...\n",
      "City not found. Skipping...\n",
      "Processing Record 129 | Cape Town\n",
      "Processing Record 130 | Al Bardīyah\n",
      "Processing Record 131 | Severo-Kuril'sk\n",
      "Processing Record 132 | Gamboma\n",
      "Processing Record 133 | Kortessem\n",
      "Processing Record 134 | Qaqortoq\n",
      "City not found. Skipping...\n",
      "Processing Record 135 | Corinth\n",
      "Processing Record 136 | Kyabram\n",
      "Processing Record 137 | Madera\n",
      "City not found. Skipping...\n",
      "Processing Record 138 | Kalmunai\n",
      "Processing Record 139 | Norman Wells\n",
      "Processing Record 140 | Rovnoye\n",
      "Processing Record 141 | Mount Gambier\n",
      "Processing Record 142 | Souillac\n",
      "Processing Record 143 | Merauke\n",
      "Processing Record 144 | Añisoc\n",
      "Processing Record 145 | Port Lincoln\n",
      "Processing Record 146 | Margate\n",
      "Processing Record 147 | Kankan\n",
      "City not found. Skipping...\n",
      "Processing Record 148 | Arvika\n",
      "City not found. Skipping...\n",
      "Processing Record 149 | Pudem\n",
      "Processing Record 150 | Meulaboh\n",
      "Processing Record 151 | Broome\n",
      "Processing Record 152 | Hobyo\n",
      "Processing Record 153 | Tūkrah\n",
      "Processing Record 154 | Chokurdakh\n",
      "Processing Record 155 | Arraial do Cabo\n",
      "Processing Record 156 | Atar\n",
      "Processing Record 157 | Tilichiki\n",
      "Processing Record 158 | Ust'-Omchug\n",
      "Processing Record 159 | Banda Aceh\n",
      "Processing Record 160 | Cherskiy\n",
      "Processing Record 161 | Hofn\n",
      "Processing Record 162 | Naze\n",
      "Processing Record 163 | Contamana\n",
      "Processing Record 164 | Hithadhoo\n",
      "Processing Record 165 | Dunedin\n",
      "Processing Record 166 | Abu Dhabi\n",
      "Processing Record 167 | Springbok\n",
      "Processing Record 168 | Hamilton\n",
      "Processing Record 169 | Fare\n",
      "Processing Record 170 | Kwinana\n",
      "City not found. Skipping...\n",
      "Processing Record 171 | Kavieng\n",
      "Processing Record 172 | Kungurtug\n",
      "Processing Record 173 | Moundsville\n",
      "Processing Record 174 | Nizhniy Tsasuchey\n",
      "Processing Record 175 | Leh\n",
      "City not found. Skipping...\n",
      "Processing Record 176 | Kiryat Gat\n",
      "Processing Record 177 | Jatai\n",
      "Processing Record 178 | Rabo de Peixe\n",
      "Processing Record 179 | Mmathubudukwane\n",
      "Processing Record 180 | Pacific Grove\n",
      "Processing Record 181 | Batemans Bay\n",
      "Processing Record 182 | Santa Barbara\n",
      "Processing Record 183 | Wamba\n",
      "Processing Record 184 | Arrondissement de Limoges\n",
      "Processing Record 185 | Bethel\n",
      "Processing Record 186 | Muros\n",
      "Processing Record 187 | Byron Bay\n",
      "Processing Record 188 | Castro\n",
      "Processing Record 189 | Ishnya\n",
      "Processing Record 190 | Jiuquan\n",
      "City not found. Skipping...\n",
      "Processing Record 191 | Tawao\n",
      "Processing Record 192 | Boden\n",
      "Processing Record 193 | Nguruka\n",
      "Processing Record 194 | Bambous Virieux\n",
      "Processing Record 195 | Avarua\n",
      "Processing Record 196 | Oranjemund\n",
      "Processing Record 197 | Tiksi\n",
      "Processing Record 198 | Isangel\n",
      "Processing Record 199 | Hong Kong\n",
      "Processing Record 200 | Cockburn Town\n",
      "Processing Record 201 | Kukmor\n",
      "Processing Record 202 | Ligayan\n",
      "Processing Record 203 | Astolfo Dutra\n",
      "Processing Record 204 | Klaksvík\n",
      "Processing Record 205 | Gornyy\n",
      "Processing Record 206 | Saint Paul Harbor\n",
      "City not found. Skipping...\n",
      "Processing Record 207 | Ugoofaaru\n",
      "Processing Record 208 | Mehamn\n",
      "Processing Record 209 | Nuuk\n",
      "City not found. Skipping...\n",
      "Processing Record 210 | Prainha\n",
      "Processing Record 211 | Pevek\n",
      "Processing Record 212 | Kerman\n",
      "City not found. Skipping...\n",
      "Processing Record 213 | Shakawe\n",
      "Processing Record 214 | Mahébourg\n",
      "City not found. Skipping...\n",
      "Processing Record 215 | Vostok\n",
      "Processing Record 216 | Hambantota\n",
      "Processing Record 217 | Aklavik\n",
      "Processing Record 218 | Puerto Escondido\n",
      "Processing Record 219 | Butaritari\n",
      "City not found. Skipping...\n",
      "Processing Record 220 | Namatanai\n",
      "Processing Record 221 | Samarai\n",
      "Processing Record 222 | Metro\n",
      "Processing Record 223 | Hervey Bay\n",
      "Processing Record 224 | Tual\n",
      "Processing Record 225 | Ilhéus\n"
     ]
    },
    {
     "name": "stdout",
     "output_type": "stream",
     "text": [
      "Processing Record 226 | Banjar\n",
      "Processing Record 227 | Crestview\n",
      "Processing Record 228 | Balkanabat\n",
      "Processing Record 229 | Sydney\n",
      "Processing Record 230 | Nang Rong\n",
      "Processing Record 231 | Dingle\n",
      "Processing Record 232 | Codrington\n",
      "Processing Record 233 | Bandarbeyla\n",
      "Processing Record 234 | Arrondissement de Troyes\n",
      "Processing Record 235 | Esperance\n",
      "Processing Record 236 | Abay\n",
      "Processing Record 237 | Sibu\n",
      "Processing Record 238 | Tasiilaq\n",
      "Processing Record 239 | Channel-Port aux Basques\n",
      "Processing Record 240 | Tsimmerbude\n",
      "Processing Record 241 | Westport\n",
      "Processing Record 242 | San Patricio\n",
      "Processing Record 243 | Caravelas\n",
      "Processing Record 244 | Husavik\n",
      "Processing Record 245 | Gisborne\n",
      "Processing Record 246 | Katsuura\n",
      "Processing Record 247 | Key Largo\n",
      "Processing Record 248 | Rāvar\n",
      "Processing Record 249 | Waddān\n",
      "Processing Record 250 | Novaya Tavolzhanka\n",
      "Processing Record 251 | Asău\n",
      "City not found. Skipping...\n",
      "Processing Record 252 | Vila Velha\n",
      "Processing Record 253 | Leshukonskoye\n",
      "Processing Record 254 | Río Gallegos\n",
      "Processing Record 255 | Kiama\n",
      "Processing Record 256 | Mount Isa\n",
      "Processing Record 257 | Adrar\n",
      "Processing Record 258 | Tura\n",
      "Processing Record 259 | Narrabri\n",
      "Processing Record 260 | Raja\n",
      "Processing Record 261 | Charlestown\n",
      "Processing Record 262 | Kavaratti\n",
      "City not found. Skipping...\n",
      "Processing Record 263 | Roald\n",
      "Processing Record 264 | Coyhaique\n",
      "Processing Record 265 | Ilulissat\n",
      "Processing Record 266 | Inuvik\n",
      "Processing Record 267 | Bourail\n",
      "Processing Record 268 | Belmonte\n",
      "City not found. Skipping...\n",
      "Processing Record 269 | Tessalit\n",
      "Processing Record 270 | Viedma\n",
      "Processing Record 271 | Lebu\n",
      "Processing Record 272 | Sur\n",
      "Processing Record 273 | Eureka\n",
      "Processing Record 274 | Torbay\n",
      "Processing Record 275 | Nantucket\n",
      "Processing Record 276 | Ginir\n",
      "Processing Record 277 | Sinnamary\n",
      "Processing Record 278 | São José da Coroa Grande\n",
      "Processing Record 279 | Navahrudak\n",
      "Processing Record 280 | Eskişehir\n",
      "Processing Record 281 | Mackenzie\n",
      "Processing Record 282 | Bereda\n",
      "Processing Record 283 | Durango\n",
      "Processing Record 284 | Cabo San Lucas\n",
      "Processing Record 285 | Ossora\n",
      "Processing Record 286 | Ribeira Grande\n",
      "Processing Record 287 | Carballo\n",
      "Processing Record 288 | Arkhipo-Osipovka\n",
      "Processing Record 289 | Nagapattinam\n",
      "Processing Record 290 | Nikolskoye\n",
      "Processing Record 291 | Paamiut\n",
      "City not found. Skipping...\n",
      "Processing Record 292 | Rosa Zarate\n",
      "Processing Record 293 | Vila\n",
      "Processing Record 294 | Mitsamiouli\n",
      "Processing Record 295 | Regente Feijó\n",
      "Processing Record 296 | Poum\n",
      "Processing Record 297 | Korla\n",
      "Processing Record 298 | Bilibino\n",
      "City not found. Skipping...\n",
      "Processing Record 299 | Pangkalanbuun\n",
      "Processing Record 300 | Faya\n",
      "Processing Record 301 | Bryan\n",
      "Processing Record 302 | Labuhan\n",
      "Processing Record 303 | Íos\n",
      "Processing Record 304 | Jinxiang\n",
      "Processing Record 305 | Qasigiannguit\n",
      "Processing Record 306 | Flinders\n",
      "Processing Record 307 | Manaquiri\n",
      "Processing Record 308 | Zaozyornoye\n",
      "Processing Record 309 | Necochea\n",
      "Processing Record 310 | Sioux Lookout\n",
      "Processing Record 311 | Portão\n",
      "Processing Record 312 | Erenhot\n",
      "Processing Record 313 | Zhanakorgan\n",
      "Processing Record 314 | Nanortalik\n",
      "Processing Record 315 | São João da Barra\n",
      "Processing Record 316 | Mar del Plata\n",
      "Processing Record 317 | Pisco\n",
      "Processing Record 318 | Lavrentiya\n",
      "Processing Record 319 | Tutóia\n",
      "City not found. Skipping...\n",
      "Processing Record 320 | Algiers\n",
      "Processing Record 321 | Chui\n",
      "Processing Record 322 | Emerald\n",
      "Processing Record 323 | Ochando\n",
      "City not found. Skipping...\n",
      "Processing Record 324 | Fortuna\n",
      "Processing Record 325 | Te Anau\n",
      "Processing Record 326 | Moroto\n",
      "Processing Record 327 | Kahului\n",
      "Processing Record 328 | Bud\n",
      "Processing Record 329 | Ballina\n",
      "Processing Record 330 | Khatanga\n",
      "Processing Record 331 | Bubaque\n",
      "Processing Record 332 | St. George's\n",
      "Processing Record 333 | Shenzhen\n",
      "Processing Record 334 | Axum\n",
      "Processing Record 335 | Virginia Beach\n",
      "Processing Record 336 | Plettenberg Bay\n",
      "City not found. Skipping...\n",
      "Processing Record 337 | Sal Rei\n",
      "Processing Record 338 | Acapulco de Juárez\n",
      "Processing Record 339 | Binka\n",
      "Processing Record 340 | Strzelce Krajeńskie\n",
      "Processing Record 341 | Suntar\n",
      "Processing Record 342 | Williams Lake\n",
      "Processing Record 343 | Ōkuchi-shinohara\n",
      "Processing Record 344 | Saint-Pierre\n",
      "Processing Record 345 | Saldanha\n",
      "Processing Record 346 | Nouakchott\n",
      "Processing Record 347 | Padang\n",
      "Processing Record 348 | Kruisfontein\n",
      "Processing Record 349 | Kedrovka\n",
      "Processing Record 350 | São Félix do Xingu\n",
      "Processing Record 351 | Rongcheng\n",
      "City not found. Skipping...\n",
      "Processing Record 352 | Cap Malheureux\n",
      "Processing Record 353 | Andra\n",
      "Processing Record 354 | Khanbari\n",
      "Processing Record 355 | Victor Harbor\n",
      "Processing Record 356 | Constitución\n",
      "Processing Record 357 | Buracan\n",
      "Processing Record 358 | Santoña\n",
      "City not found. Skipping...\n",
      "Processing Record 359 | Laas\n",
      "Processing Record 360 | Surgut\n",
      "City not found. Skipping...\n",
      "City not found. Skipping...\n",
      "Processing Record 361 | San Rafael\n",
      "Processing Record 362 | Plainview\n",
      "Processing Record 363 | Egvekinot\n",
      "City not found. Skipping...\n",
      "Processing Record 364 | Morehead\n",
      "Processing Record 365 | Strängnäs\n",
      "Processing Record 366 | Rexburg\n",
      "Processing Record 367 | Güira de Melena\n",
      "Processing Record 368 | Kieta\n",
      "City not found. Skipping...\n",
      "Processing Record 369 | Yining\n",
      "Processing Record 370 | San Andrés\n",
      "Processing Record 371 | Dzhebariki-Khaya\n",
      "Processing Record 372 | Tara\n",
      "Processing Record 373 | Bosaso\n",
      "Processing Record 374 | Samaná\n",
      "City not found. Skipping...\n",
      "Processing Record 375 | Bengkulu\n",
      "Processing Record 376 | Shubarkuduk\n",
      "Processing Record 377 | Mossamedes\n",
      "Processing Record 378 | Bintulu\n",
      "City not found. Skipping...\n",
      "Processing Record 379 | Sibolga\n",
      "Processing Record 380 | Mudgee\n",
      "Processing Record 381 | Humboldt\n",
      "Processing Record 382 | Nioro\n",
      "Processing Record 383 | Savino\n",
      "Processing Record 384 | Northam\n",
      "Processing Record 385 | Mayumba\n",
      "Processing Record 386 | Safi\n",
      "Processing Record 387 | Yar-Sale\n",
      "Processing Record 388 | Terracina\n",
      "Processing Record 389 | Abu Kamal\n",
      "Processing Record 390 | Touros\n",
      "City not found. Skipping...\n",
      "Processing Record 391 | Nanlong\n",
      "Processing Record 392 | Neustadt an der Waldnaab\n",
      "Processing Record 393 | Fort Nelson\n",
      "Processing Record 394 | Christchurch\n",
      "Processing Record 395 | Salalah\n",
      "Processing Record 396 | Balikpapan\n",
      "City not found. Skipping...\n",
      "Processing Record 397 | Mwense\n",
      "Processing Record 398 | Kumhāri\n",
      "Processing Record 399 | Ulety\n",
      "Processing Record 400 | Cayenne\n",
      "Processing Record 401 | Kichera\n",
      "Processing Record 402 | Tetiz\n",
      "Processing Record 403 | Pitimbu\n",
      "Processing Record 404 | Rāwah\n",
      "Processing Record 405 | Port Hardy\n",
      "Processing Record 406 | Vol'sk\n",
      "Processing Record 407 | Kemlya\n",
      "Processing Record 408 | Calama\n",
      "Processing Record 409 | Nome\n",
      "Processing Record 410 | Damara\n",
      "Processing Record 411 | Sakakah\n",
      "Processing Record 412 | Port-Gentil\n",
      "Processing Record 413 | Fomboni\n",
      "Processing Record 414 | De-Kastri\n",
      "Processing Record 415 | Khajuraho\n",
      "Processing Record 416 | Bacolod City\n",
      "City not found. Skipping...\n",
      "Processing Record 417 | Andover\n",
      "Processing Record 418 | General Pico\n",
      "Processing Record 419 | Nizhniy Kuranakh\n",
      "Processing Record 420 | Āstāneh-ye Ashrafīyeh\n",
      "Processing Record 421 | Ajdabiya\n",
      "Processing Record 422 | Dickinson\n",
      "Processing Record 423 | Bulawayo\n",
      "Processing Record 424 | Vryburg\n",
      "Processing Record 425 | Huarmey\n",
      "Processing Record 426 | Binga\n",
      "Processing Record 427 | Half Moon Bay\n",
      "City not found. Skipping...\n",
      "Processing Record 428 | Maiduguri\n",
      "Processing Record 429 | Chipinge\n",
      "Processing Record 430 | Diu\n",
      "Processing Record 431 | Victoria Falls\n",
      "Processing Record 432 | Piney Green\n",
      "Processing Record 433 | Saint-Germain-de-Grantham\n",
      "Processing Record 434 | Keelung\n",
      "Processing Record 435 | Greenfield\n",
      "City not found. Skipping...\n",
      "Processing Record 436 | Cairns\n",
      "Processing Record 437 | Voinka\n",
      "Processing Record 438 | Lázaro Cárdenas\n",
      "Processing Record 439 | Tateyama\n",
      "Processing Record 440 | Cabedelo\n",
      "Processing Record 441 | Port Blair\n",
      "Processing Record 442 | Carahue\n",
      "Processing Record 443 | Colesberg\n",
      "City not found. Skipping...\n",
      "Processing Record 444 | Kaka\n",
      "Processing Record 445 | Lüderitz\n",
      "Processing Record 446 | Sørland\n",
      "Processing Record 447 | Pierre\n",
      "Processing Record 448 | Lincoln\n",
      "Processing Record 449 | Beyneu\n",
      "Processing Record 450 | Ariyalūr\n",
      "Processing Record 451 | Buala\n",
      "Processing Record 452 | Ous\n"
     ]
    },
    {
     "name": "stdout",
     "output_type": "stream",
     "text": [
      "Processing Record 453 | Yulara\n",
      "Processing Record 454 | Yeppoon\n",
      "Processing Record 455 | Novy Urengoy\n",
      "Processing Record 456 | Mattru\n",
      "Processing Record 457 | Deshnok\n",
      "Processing Record 458 | Tabou\n",
      "Processing Record 459 | Yumen\n",
      "Processing Record 460 | Estrela\n",
      "Processing Record 461 | Beringovskiy\n",
      "Processing Record 462 | Novo Aripuanã\n",
      "Processing Record 463 | Vila Franca do Campo\n",
      "Processing Record 464 | Katobu\n",
      "Processing Record 465 | Boa Vista\n",
      "Processing Record 466 | Iberia\n",
      "Processing Record 467 | Valparaíso\n",
      "Processing Record 468 | Kyzyl-Suu\n",
      "Processing Record 469 | Inhambane\n",
      "Processing Record 470 | Vallenar\n",
      "Processing Record 471 | Vardø\n",
      "Processing Record 472 | Tommot\n",
      "Processing Record 473 | Esim\n",
      "Processing Record 474 | Sabzawār\n",
      "Processing Record 475 | Praia da Vitória\n",
      "Processing Record 476 | Keti Bandar\n",
      "Processing Record 477 | Palāsbāri\n",
      "Processing Record 478 | Sorong\n",
      "Processing Record 479 | Cotonou\n",
      "Processing Record 480 | Ahipara\n",
      "Processing Record 481 | Ucluelet\n",
      "Processing Record 482 | Wuwei\n",
      "Processing Record 483 | Artyom\n",
      "Processing Record 484 | Zionsville\n",
      "Processing Record 485 | Hirara\n",
      "Processing Record 486 | Belyy Yar\n",
      "Processing Record 487 | Kamiiso\n",
      "Processing Record 488 | Jinchang\n",
      "Processing Record 489 | Strunino\n",
      "Processing Record 490 | Novki\n",
      "Processing Record 491 | Bam\n",
      "Processing Record 492 | Moose Factory\n",
      "City not found. Skipping...\n",
      "Processing Record 493 | Sobolevo\n",
      "Processing Record 494 | Saint-Leu\n",
      "Processing Record 495 | Ostrovnoy\n",
      "Processing Record 496 | Porto-Novo\n",
      "Processing Record 497 | Rosarito\n",
      "Processing Record 498 | Yenagoa\n",
      "City not found. Skipping...\n",
      "City not found. Skipping...\n",
      "City not found. Skipping...\n",
      "Processing Record 499 | Lata\n",
      "Processing Record 500 | Bariloche\n",
      "Processing Record 501 | Samut Songkhram\n",
      "Processing Record 502 | Minnedosa\n",
      "Processing Record 503 | Kamina\n",
      "Processing Record 504 | Hirado\n",
      "City not found. Skipping...\n",
      "Processing Record 505 | Takoradze\n",
      "Processing Record 506 | Phrae\n",
      "Processing Record 507 | Ginda\n",
      "Processing Record 508 | Sosnovka\n",
      "City not found. Skipping...\n",
      "Processing Record 509 | Hailar\n",
      "Processing Record 510 | Mpika\n",
      "Processing Record 511 | Bumba\n",
      "Processing Record 512 | Tomatlán\n",
      "Processing Record 513 | Rio Claro\n",
      "Processing Record 514 | Steenwijk\n",
      "Processing Record 515 | Grafton\n",
      "Processing Record 516 | Anadyr\n",
      "City not found. Skipping...\n",
      "Processing Record 517 | Tshikapa\n",
      "Processing Record 518 | Thinadhoo\n",
      "Processing Record 519 | Vestmanna\n",
      "Processing Record 520 | The Pas\n",
      "Processing Record 521 | Sombrio\n",
      "Processing Record 522 | Altamira\n",
      "Processing Record 523 | Yafran\n",
      "Processing Record 524 | Khāsh\n",
      "Processing Record 525 | Alice Springs\n",
      "Processing Record 526 | Isiro\n",
      "Processing Record 527 | Itarema\n",
      "City not found. Skipping...\n",
      "Processing Record 528 | Ashland\n",
      "-------------------------------\n",
      "Data Retrieval Complete\n",
      "-------------------------------\n"
     ]
    }
   ],
   "source": [
    "# Set up Lists to hold response information\n",
    "country = []\n",
    "city_name = []\n",
    "longitude = []\n",
    "latitude = []\n",
    "date = []\n",
    "cloudiness = []\n",
    "humidity = []\n",
    "max_temperature = []\n",
    "wind_speed = []\n",
    "\n",
    "# Processing Record Counter Starting at 1\n",
    "processing_record = 1\n",
    "\n",
    "# print your starting log statement\n",
    "print(\"Begining Data Retrieval \\n-----------------------\")\n",
    "    \n",
    "# Loop Through List of Cities & Perform a Request for Data on Each\n",
    "for city in cities:\n",
    "\n",
    "    \n",
    "# Exception Handling\n",
    "    try:\n",
    "        response = requests.get(query_url + city).json()\n",
    "        country.append(response[\"sys\"][\"country\"])\n",
    "        city_name.append(response[\"name\"])\n",
    "        longitude.append(response[\"coord\"][\"lon\"])\n",
    "        latitude.append(response[\"coord\"][\"lat\"])\n",
    "        date.append(response[\"dt\"])\n",
    "        cloudiness.append(response[\"clouds\"][\"all\"])\n",
    "        humidity.append(response[\"main\"][\"humidity\"])\n",
    "        max_temperature.append(response[\"main\"][\"temp_max\"])\n",
    "        wind_speed.append(response[\"wind\"][\"speed\"])\n",
    "        city_record = response[\"name\"]\n",
    "        print(f\"Processing Record {processing_record} | {city_record}\")\n",
    "        \n",
    "\n",
    "        # Increase Processing Record Counter by 1 For Each Loop\n",
    "        processing_record += 1\n",
    "        \n",
    "    except: \n",
    "        print(\"City not found. Skipping...\") \n",
    "    continue\n",
    "\n",
    "# Print Ending Log Statement\n",
    "print(f\"-------------------------------\")\n",
    "print(f\"Data Retrieval Complete\")\n",
    "print(f\"-------------------------------\")\n",
    " \n"
   ]
  },
  {
   "cell_type": "markdown",
   "metadata": {},
   "source": [
    "### Convert Raw Data to DataFrame\n",
    "* Export the city data into a .csv.\n",
    "* Display the DataFrame"
   ]
  },
  {
   "cell_type": "code",
   "execution_count": 40,
   "metadata": {},
   "outputs": [
    {
     "data": {
      "text/plain": [
       "City          528\n",
       "Lat           528\n",
       "Lng           528\n",
       "Max Temp      528\n",
       "Humidity      528\n",
       "Cloudiness    528\n",
       "Wind Speed    528\n",
       "Country       528\n",
       "Date          528\n",
       "dtype: int64"
      ]
     },
     "execution_count": 40,
     "metadata": {},
     "output_type": "execute_result"
    }
   ],
   "source": [
    "weather_lists ={\"City\": city_name, \n",
    "                \"Lat\": latitude,\n",
    "                \"Lng\": longitude,\n",
    "                \"Max Temp\": max_temperature,\n",
    "                \"Humidity\": humidity,\n",
    "                \"Cloudiness\": cloudiness,\n",
    "                \"Wind Speed\": wind_speed,\n",
    "                \"Country\": country,\n",
    "                \"Date\": date\n",
    "}\n",
    "\n",
    "weather_data_df = pd.DataFrame(weather_lists)\n",
    "weather_data_df.count()"
   ]
  },
  {
   "cell_type": "code",
   "execution_count": 41,
   "metadata": {},
   "outputs": [
    {
     "data": {
      "text/html": [
       "<div>\n",
       "<style scoped>\n",
       "    .dataframe tbody tr th:only-of-type {\n",
       "        vertical-align: middle;\n",
       "    }\n",
       "\n",
       "    .dataframe tbody tr th {\n",
       "        vertical-align: top;\n",
       "    }\n",
       "\n",
       "    .dataframe thead th {\n",
       "        text-align: right;\n",
       "    }\n",
       "</style>\n",
       "<table border=\"1\" class=\"dataframe\">\n",
       "  <thead>\n",
       "    <tr style=\"text-align: right;\">\n",
       "      <th></th>\n",
       "      <th>City</th>\n",
       "      <th>Lat</th>\n",
       "      <th>Lng</th>\n",
       "      <th>Max Temp</th>\n",
       "      <th>Humidity</th>\n",
       "      <th>Cloudiness</th>\n",
       "      <th>Wind Speed</th>\n",
       "      <th>Country</th>\n",
       "      <th>Date</th>\n",
       "    </tr>\n",
       "  </thead>\n",
       "  <tbody>\n",
       "    <tr>\n",
       "      <th>0</th>\n",
       "      <td>Bredasdorp</td>\n",
       "      <td>-34.53</td>\n",
       "      <td>20.04</td>\n",
       "      <td>66.20</td>\n",
       "      <td>42</td>\n",
       "      <td>0</td>\n",
       "      <td>11.41</td>\n",
       "      <td>ZA</td>\n",
       "      <td>1604063267</td>\n",
       "    </tr>\n",
       "    <tr>\n",
       "      <th>1</th>\n",
       "      <td>New Norfolk</td>\n",
       "      <td>-42.78</td>\n",
       "      <td>147.06</td>\n",
       "      <td>48.00</td>\n",
       "      <td>71</td>\n",
       "      <td>12</td>\n",
       "      <td>1.45</td>\n",
       "      <td>AU</td>\n",
       "      <td>1604063267</td>\n",
       "    </tr>\n",
       "    <tr>\n",
       "      <th>2</th>\n",
       "      <td>Sambava</td>\n",
       "      <td>-14.27</td>\n",
       "      <td>50.17</td>\n",
       "      <td>78.22</td>\n",
       "      <td>66</td>\n",
       "      <td>18</td>\n",
       "      <td>21.68</td>\n",
       "      <td>MG</td>\n",
       "      <td>1604063267</td>\n",
       "    </tr>\n",
       "    <tr>\n",
       "      <th>3</th>\n",
       "      <td>Busselton</td>\n",
       "      <td>-33.65</td>\n",
       "      <td>115.33</td>\n",
       "      <td>66.99</td>\n",
       "      <td>42</td>\n",
       "      <td>0</td>\n",
       "      <td>6.71</td>\n",
       "      <td>AU</td>\n",
       "      <td>1604063267</td>\n",
       "    </tr>\n",
       "    <tr>\n",
       "      <th>4</th>\n",
       "      <td>Rikitea</td>\n",
       "      <td>-23.12</td>\n",
       "      <td>-134.97</td>\n",
       "      <td>74.80</td>\n",
       "      <td>73</td>\n",
       "      <td>99</td>\n",
       "      <td>6.60</td>\n",
       "      <td>PF</td>\n",
       "      <td>1604063267</td>\n",
       "    </tr>\n",
       "  </tbody>\n",
       "</table>\n",
       "</div>"
      ],
      "text/plain": [
       "          City    Lat     Lng  Max Temp  Humidity  Cloudiness  Wind Speed  \\\n",
       "0   Bredasdorp -34.53   20.04     66.20        42           0       11.41   \n",
       "1  New Norfolk -42.78  147.06     48.00        71          12        1.45   \n",
       "2      Sambava -14.27   50.17     78.22        66          18       21.68   \n",
       "3    Busselton -33.65  115.33     66.99        42           0        6.71   \n",
       "4      Rikitea -23.12 -134.97     74.80        73          99        6.60   \n",
       "\n",
       "  Country        Date  \n",
       "0      ZA  1604063267  \n",
       "1      AU  1604063267  \n",
       "2      MG  1604063267  \n",
       "3      AU  1604063267  \n",
       "4      PF  1604063267  "
      ]
     },
     "execution_count": 41,
     "metadata": {},
     "output_type": "execute_result"
    }
   ],
   "source": [
    "# Show the dataframe\n",
    "weather_data_df.head()\n",
    "\n"
   ]
  },
  {
   "cell_type": "code",
   "execution_count": 42,
   "metadata": {},
   "outputs": [],
   "source": [
    "# Export & Save Data Into a .csv.\n",
    "cities_list = zip(country, city_name,longitude,latitude,date,cloudiness,humidity,max_temperature)\n",
    "# Set variable for output file\n",
    "output_file = os.path.join('..', 'output_data', 'cities.csv')\n",
    "#  Open the output file\n",
    "with open(output_file, 'w') as datafile:\n",
    "    weather_data_df.to_csv(output_file)\n",
    "    "
   ]
  },
  {
   "cell_type": "code",
   "execution_count": 43,
   "metadata": {},
   "outputs": [],
   "source": [
    "# Inspect the data and remove the cities where the humidity > 100%.\n",
    "\n",
    "# Skip this step if there are no cities that have humidity > 100%.\n",
    "\n",
    "\n"
   ]
  },
  {
   "cell_type": "markdown",
   "metadata": {},
   "source": [
    " "
   ]
  },
  {
   "cell_type": "code",
   "execution_count": 74,
   "metadata": {},
   "outputs": [
    {
     "data": {
      "text/html": [
       "<div>\n",
       "<style scoped>\n",
       "    .dataframe tbody tr th:only-of-type {\n",
       "        vertical-align: middle;\n",
       "    }\n",
       "\n",
       "    .dataframe tbody tr th {\n",
       "        vertical-align: top;\n",
       "    }\n",
       "\n",
       "    .dataframe thead th {\n",
       "        text-align: right;\n",
       "    }\n",
       "</style>\n",
       "<table border=\"1\" class=\"dataframe\">\n",
       "  <thead>\n",
       "    <tr style=\"text-align: right;\">\n",
       "      <th></th>\n",
       "      <th>City</th>\n",
       "      <th>Lat</th>\n",
       "      <th>Lng</th>\n",
       "      <th>Max Temp</th>\n",
       "      <th>Humidity</th>\n",
       "      <th>Cloudiness</th>\n",
       "      <th>Wind Speed</th>\n",
       "      <th>Country</th>\n",
       "      <th>Date</th>\n",
       "    </tr>\n",
       "  </thead>\n",
       "  <tbody>\n",
       "  </tbody>\n",
       "</table>\n",
       "</div>"
      ],
      "text/plain": [
       "Empty DataFrame\n",
       "Columns: [City, Lat, Lng, Max Temp, Humidity, Cloudiness, Wind Speed, Country, Date]\n",
       "Index: []"
      ]
     },
     "execution_count": 74,
     "metadata": {},
     "output_type": "execute_result"
    }
   ],
   "source": [
    "#  Get the indices of cities that have humidity over 100%.\n",
    "humidity_count = weather_data_df.loc[(weather_data_df[\"Humidity\"] >= 101)]\n",
    "\n",
    "\n",
    "humidity_count"
   ]
  },
  {
   "cell_type": "code",
   "execution_count": 45,
   "metadata": {},
   "outputs": [],
   "source": [
    "# Make a new DataFrame equal to the city data to drop all humidity outliers by index.\n",
    "# Passing \"inplace=False\" will make a copy of the city_data DataFrame, which we call \"clean_city_data\".\n"
   ]
  },
  {
   "cell_type": "code",
   "execution_count": 46,
   "metadata": {
    "scrolled": true
   },
   "outputs": [
    {
     "data": {
      "text/html": [
       "<div>\n",
       "<style scoped>\n",
       "    .dataframe tbody tr th:only-of-type {\n",
       "        vertical-align: middle;\n",
       "    }\n",
       "\n",
       "    .dataframe tbody tr th {\n",
       "        vertical-align: top;\n",
       "    }\n",
       "\n",
       "    .dataframe thead th {\n",
       "        text-align: right;\n",
       "    }\n",
       "</style>\n",
       "<table border=\"1\" class=\"dataframe\">\n",
       "  <thead>\n",
       "    <tr style=\"text-align: right;\">\n",
       "      <th></th>\n",
       "      <th>City</th>\n",
       "      <th>Lat</th>\n",
       "      <th>Lng</th>\n",
       "      <th>Max Temp</th>\n",
       "      <th>Humidity</th>\n",
       "      <th>Cloudiness</th>\n",
       "      <th>Wind Speed</th>\n",
       "      <th>Country</th>\n",
       "      <th>Date</th>\n",
       "    </tr>\n",
       "  </thead>\n",
       "  <tbody>\n",
       "    <tr>\n",
       "      <th>0</th>\n",
       "      <td>Bredasdorp</td>\n",
       "      <td>-34.53</td>\n",
       "      <td>20.04</td>\n",
       "      <td>66.20</td>\n",
       "      <td>42</td>\n",
       "      <td>0</td>\n",
       "      <td>11.41</td>\n",
       "      <td>ZA</td>\n",
       "      <td>1604063267</td>\n",
       "    </tr>\n",
       "    <tr>\n",
       "      <th>1</th>\n",
       "      <td>New Norfolk</td>\n",
       "      <td>-42.78</td>\n",
       "      <td>147.06</td>\n",
       "      <td>48.00</td>\n",
       "      <td>71</td>\n",
       "      <td>12</td>\n",
       "      <td>1.45</td>\n",
       "      <td>AU</td>\n",
       "      <td>1604063267</td>\n",
       "    </tr>\n",
       "    <tr>\n",
       "      <th>2</th>\n",
       "      <td>Sambava</td>\n",
       "      <td>-14.27</td>\n",
       "      <td>50.17</td>\n",
       "      <td>78.22</td>\n",
       "      <td>66</td>\n",
       "      <td>18</td>\n",
       "      <td>21.68</td>\n",
       "      <td>MG</td>\n",
       "      <td>1604063267</td>\n",
       "    </tr>\n",
       "    <tr>\n",
       "      <th>3</th>\n",
       "      <td>Busselton</td>\n",
       "      <td>-33.65</td>\n",
       "      <td>115.33</td>\n",
       "      <td>66.99</td>\n",
       "      <td>42</td>\n",
       "      <td>0</td>\n",
       "      <td>6.71</td>\n",
       "      <td>AU</td>\n",
       "      <td>1604063267</td>\n",
       "    </tr>\n",
       "    <tr>\n",
       "      <th>4</th>\n",
       "      <td>Rikitea</td>\n",
       "      <td>-23.12</td>\n",
       "      <td>-134.97</td>\n",
       "      <td>74.80</td>\n",
       "      <td>73</td>\n",
       "      <td>99</td>\n",
       "      <td>6.60</td>\n",
       "      <td>PF</td>\n",
       "      <td>1604063267</td>\n",
       "    </tr>\n",
       "  </tbody>\n",
       "</table>\n",
       "</div>"
      ],
      "text/plain": [
       "          City    Lat     Lng  Max Temp  Humidity  Cloudiness  Wind Speed  \\\n",
       "0   Bredasdorp -34.53   20.04     66.20        42           0       11.41   \n",
       "1  New Norfolk -42.78  147.06     48.00        71          12        1.45   \n",
       "2      Sambava -14.27   50.17     78.22        66          18       21.68   \n",
       "3    Busselton -33.65  115.33     66.99        42           0        6.71   \n",
       "4      Rikitea -23.12 -134.97     74.80        73          99        6.60   \n",
       "\n",
       "  Country        Date  \n",
       "0      ZA  1604063267  \n",
       "1      AU  1604063267  \n",
       "2      MG  1604063267  \n",
       "3      AU  1604063267  \n",
       "4      PF  1604063267  "
      ]
     },
     "execution_count": 46,
     "metadata": {},
     "output_type": "execute_result"
    }
   ],
   "source": [
    "# Make a dataframe that has only non-null values (so linear regression can be done later)\n",
    "# First drop the NaN values\n",
    "weather_data_values = weather_data_df.dropna()\n",
    "\n",
    "# Reset the index (it will have gaps in it where the NaN value rows have been deleted)\n",
    "weather_data_values = weather_data_values.reset_index(drop=True)\n",
    "\n",
    "# # Change the datatype for the city_id field to an integer (it gets created as a float)\n",
    "# weather_data_values['City'] = weather_data_values['City'].astype(int)\n",
    "#\n",
    "weather_data_values.head()\n"
   ]
  },
  {
   "cell_type": "markdown",
   "metadata": {},
   "source": [
    "## Plotting the Data\n",
    "* Use proper labeling of the plots using plot titles (including date of analysis) and axes labels.\n",
    "* Save the plotted figures as .pngs."
   ]
  },
  {
   "cell_type": "markdown",
   "metadata": {},
   "source": [
    "## Latitude vs. Temperature Plot"
   ]
  },
  {
   "cell_type": "code",
   "execution_count": 47,
   "metadata": {},
   "outputs": [
    {
     "name": "stderr",
     "output_type": "stream",
     "text": [
      "<ipython-input-47-6c358c58bf4b>:1: FutureWarning: The pandas.datetime class is deprecated and will be removed from pandas in a future version. Import from datetime module instead.\n",
      "  date = pd.datetime.fromtimestamp(int(weather_data_df['Date'][0])).strftime('%m/%d/%Y')\n"
     ]
    }
   ],
   "source": [
    "date = pd.datetime.fromtimestamp(int(weather_data_df['Date'][0])).strftime('%m/%d/%Y')"
   ]
  },
  {
   "cell_type": "code",
   "execution_count": 48,
   "metadata": {
    "scrolled": true
   },
   "outputs": [
    {
     "data": {
      "image/png": "[encoded data removed]",
      "text/plain": [
       "<Figure size 432x288 with 1 Axes>"
      ]
     },
     "metadata": {
      "needs_background": "light"
     },
     "output_type": "display_data"
    }
   ],
   "source": [
    "# Build a scatter plot for Latitude vs.Temperature in Fahrenheit\n",
    "# date =pd.datetime.fromtimestamp(int(weather_data_df['Date'][0])).strftime('%m/%d/%Y')\n",
    "plt.scatter(weather_data_values[\"Lat\"], weather_data_values[\"Max Temp\"], linewidths=1, alpha=0.8, marker=\"o\",edgecolors='black')\n",
    "\n",
    "# Fix in the other graph properties\n",
    "plt.title('City Latitude Vs Max Temperature ({})'.format(date) )\n",
    "plt.xlabel(\"Latitude\")\n",
    "plt.ylabel(\"Max Temperature (F)\")\n",
    "\n",
    "plt.grid(True)\n",
    "\n",
    "# Save the figure\n",
    "plt.savefig(\"../Images/LatitudeVsTemperature.png\")\n",
    "\n",
    "# Show plot\n",
    "plt.show()\n",
    "\n",
    "\n"
   ]
  },
  {
   "cell_type": "markdown",
   "metadata": {},
   "source": [
    "In this Plot - The Latitude vs. Temperature we see a decrese in temperature when the Latitide goes both north and \n",
    "south of the equator. However the decrease in temperature is higher with the temperature falling below zero(0) \n",
    "when the latitude increses over 60 or goes north."
   ]
  },
  {
   "cell_type": "markdown",
   "metadata": {},
   "source": [
    "## Latitude vs. Humidity Plot"
   ]
  },
  {
   "cell_type": "code",
   "execution_count": 59,
   "metadata": {},
   "outputs": [
    {
     "data": {
      "image/png": "[encoded data removed]",
      "text/plain": [
       "<Figure size 432x288 with 1 Axes>"
      ]
     },
     "metadata": {
      "needs_background": "light"
     },
     "output_type": "display_data"
    }
   ],
   "source": [
    "# Build a scatter plot for Latitude vs. Humidity\n",
    "plt.scatter(weather_data_values[\"Lat\"], weather_data_values[\"Humidity\"], marker=\"o\",edgecolors='black')\n",
    "\n",
    "# Fix in the other graph properties\n",
    "plt.title('City Latitude Vs Max Humidity ({})'.format(date) )\n",
    "plt.xlabel(\"Latitude\")\n",
    "plt.ylabel(\"Humidity (%)\")\n",
    "\n",
    "plt.grid(True)\n",
    "\n",
    "# Save the figure\n",
    "plt.savefig(\"../Images/LatitudeVsHumidity.png\")\n",
    "\n",
    "# Show plot\n",
    "plt.show()\n",
    "\n",
    "\n"
   ]
  },
  {
   "cell_type": "markdown",
   "metadata": {},
   "source": [
    "In this Plot - Latitude vs. Humidity there is more and higher humidity above 60.\n",
    "In addition as the latitude goes further north humidity rises \n"
   ]
  },
  {
   "cell_type": "markdown",
   "metadata": {},
   "source": [
    "## Latitude vs. Cloudiness Plot"
   ]
  },
  {
   "cell_type": "code",
   "execution_count": 51,
   "metadata": {},
   "outputs": [
    {
     "data": {
      "image/png": "[encoded data removed]",
      "text/plain": [
       "<Figure size 432x288 with 1 Axes>"
      ]
     },
     "metadata": {
      "needs_background": "light"
     },
     "output_type": "display_data"
    }
   ],
   "source": [
    "# Build a scatter plot for Latitude vs. Cloudiness\n",
    "plt.scatter(weather_data_values[\"Lat\"], weather_data_values[\"Cloudiness\"], marker=\"o\",edgecolors='black')\n",
    "\n",
    "# Fix in the other graph properties\n",
    "plt.title('City Latitude Vs Cloudiness ({})'.format(date) )\n",
    "plt.xlabel(\"Latitude\")\n",
    "plt.ylabel(\"Cloudiness (%)\")\n",
    "\n",
    "plt.grid(True)\n",
    "\n",
    "# Save the figure\n",
    "plt.savefig(\"../Images/LatitudeVsCloudiness.png\")\n",
    "\n",
    "# Show plot\n",
    "plt.show()"
   ]
  },
  {
   "cell_type": "markdown",
   "metadata": {},
   "source": [
    "In this plot - Latitude vs Cloudiness we can see a collection of points of cloudiness scattered \n",
    "all over the city for latitudes above and below zero.\n"
   ]
  },
  {
   "cell_type": "markdown",
   "metadata": {},
   "source": [
    "## Latitude vs. Wind Speed Plot"
   ]
  },
  {
   "cell_type": "code",
   "execution_count": 52,
   "metadata": {},
   "outputs": [
    {
     "data": {
      "image/png": "[encoded data removed]",
      "text/plain": [
       "<Figure size 432x288 with 1 Axes>"
      ]
     },
     "metadata": {
      "needs_background": "light"
     },
     "output_type": "display_data"
    }
   ],
   "source": [
    "# Build a scatter plot for Latitude vs. Wind Speed \n",
    "plt.scatter(weather_data_values[\"Lat\"], weather_data_values[\"Wind Speed\"], marker=\"o\",edgecolors='black')\n",
    "\n",
    "# Fix in the other graph properties\n",
    "plt.title('City Latitude Vs Wind Speed ({})'.format(date) )\n",
    "plt.xlabel(\"Latitude\")\n",
    "plt.ylabel(\"Wind Speed (mph)\")\n",
    "\n",
    "plt.grid(True)\n",
    "\n",
    "# Save the figure\n",
    "plt.savefig(\"../Images/LatitudeVsWindSpeed.png\")\n",
    "\n",
    "# Show plot\n",
    "plt.show()"
   ]
  },
  {
   "cell_type": "markdown",
   "metadata": {},
   "source": [
    "In this Plot - Latitude  vs wind speed, we can see that most of the wind speed was between 0 ad 20mph \n",
    "for latitude to the north and south."
   ]
  },
  {
   "cell_type": "markdown",
   "metadata": {},
   "source": [
    "## Linear Regression"
   ]
  },
  {
   "cell_type": "code",
   "execution_count": 53,
   "metadata": {},
   "outputs": [],
   "source": [
    "# Create Northern and Southern Hemisphere DataFrames\n",
    "northern_hemisphere = weather_data_values.loc[weather_data_values[\"Lat\"] >= 0]\n",
    "southern_hemisphere = weather_data_values.loc[weather_data_values[\"Lat\"] < 0]"
   ]
  },
  {
   "cell_type": "code",
   "execution_count": 54,
   "metadata": {},
   "outputs": [],
   "source": [
    "# Define function for creating linear regression and scatter plot\n",
    "def linear_regression(x,y):\n",
    "    (slope, intercept, rvalue, pvalue, stderr) = linregress(x, y)\n",
    "    print(f\"The r-squared is: {rvalue}\")\n",
    "    regress_values = x * slope + intercept\n",
    "    line_eq = \"y = \" + str(round(slope,2)) + \"x + \" + str(round(intercept,2))\n",
    "    plt.scatter(x, y)\n",
    "    plt.plot(x,regress_values,\"r-\")\n",
    "    return line_eq\n",
    "\n",
    "# Define a fuction for annotating\n",
    "def annotate(line_eq, a, b):\n",
    "    plt.annotate(line_eq,(a,b),fontsize=15,color=\"red\")\n",
    "    \n"
   ]
  },
  {
   "cell_type": "markdown",
   "metadata": {},
   "source": [
    "####  Northern Hemisphere - Max Temp vs. Latitude Linear Regression"
   ]
  },
  {
   "cell_type": "code",
   "execution_count": 55,
   "metadata": {},
   "outputs": [
    {
     "name": "stdout",
     "output_type": "stream",
     "text": [
      "The r-squared is: -0.8579805806985861\n"
     ]
    },
    {
     "data": {
      "image/png": "[encoded data removed]",
      "text/plain": [
       "<Figure size 432x288 with 1 Axes>"
      ]
     },
     "metadata": {
      "needs_background": "light"
     },
     "output_type": "display_data"
    }
   ],
   "source": [
    "# Call an function #1\n",
    "equation = linear_regression(northern_hemisphere[\"Lat\"], northern_hemisphere[\"Max Temp\"])\n",
    "\n",
    "# Call an function #2\n",
    "annotate(equation, 0, 0)\n",
    "\n",
    "# Set a title\n",
    "plt.title(\"Northern Hemisphere - Max Temp vs. Latitude Linear Regression\")\n",
    "\n",
    "# Set xlabel\n",
    "plt.xlabel(\"Latitude\")\n",
    "\n",
    "# Set ylabel\n",
    "plt.ylabel(\"Max Temp (F)\")\n",
    "\n",
    "# Save the figure\n",
    "plt.savefig(\"../Images/Northern Hemisphere - Max Temp vs. Latitude Linear Regression.png\")"
   ]
  },
  {
   "cell_type": "markdown",
   "metadata": {},
   "source": [
    "In the Northern Hemisphere the r-squared depicts the strenghth of the correlation as a strong negative correlation between latitude and max temperature. \n",
    "This tells us that as the latitude is increasing temperature is decreasing and vice versa."
   ]
  },
  {
   "cell_type": "markdown",
   "metadata": {},
   "source": [
    "####  Southern Hemisphere - Max Temp vs. Latitude Linear Regression"
   ]
  },
  {
   "cell_type": "code",
   "execution_count": 56,
   "metadata": {
    "scrolled": true
   },
   "outputs": [
    {
     "name": "stdout",
     "output_type": "stream",
     "text": [
      "The r-squared is: 0.7493626875848994\n"
     ]
    },
    {
     "data": {
      "image/png": "[encoded data removed]",
      "text/plain": [
       "<Figure size 432x288 with 1 Axes>"
      ]
     },
     "metadata": {
      "needs_background": "light"
     },
     "output_type": "display_data"
    }
   ],
   "source": [
    "# Call a function #1\n",
    "equation = linear_regression(southern_hemisphere[\"Lat\"], southern_hemisphere[\"Max Temp\"])\n",
    "\n",
    "# Call a function #2\n",
    "annotate(equation, 0, 0)\n",
    "\n",
    "# Set a title\n",
    "plt.title(\"Southern Hemisphere - Max Temp vs. Latitude Linear Regression\")\n",
    "\n",
    "# Set xlabel\n",
    "plt.xlabel(\"Latitude\")\n",
    "\n",
    "# Set ylabel\n",
    "plt.ylabel(\"Max Temp (F)\")\n",
    "\n",
    "# Save the figure\n",
    "plt.savefig(\"../Images/Southern Hemisphere - Max Temp vs. Latitude Linear Regression.png\")"
   ]
  },
  {
   "cell_type": "markdown",
   "metadata": {},
   "source": [
    "In the southern hemisphere the r-square depicts the strength of the correlation as a strong positive correlation between latitude and maximum temperature. \n",
    "This tells us that as the latitude is decreasing the max temperature is also decreasing and vice versa."
   ]
  },
  {
   "cell_type": "markdown",
   "metadata": {},
   "source": [
    "####  Northern Hemisphere - Humidity (%) vs. Latitude Linear Regression"
   ]
  },
  {
   "cell_type": "code",
   "execution_count": 57,
   "metadata": {},
   "outputs": [
    {
     "name": "stdout",
     "output_type": "stream",
     "text": [
      "The r-squared is: 0.36986895361710853\n"
     ]
    },
    {
     "data": {
      "image/png": "[encoded data removed]",
      "text/plain": [
       "<Figure size 432x288 with 1 Axes>"
      ]
     },
     "metadata": {
      "needs_background": "light"
     },
     "output_type": "display_data"
    }
   ],
   "source": [
    "# Call a function #1\n",
    "equation = linear_regression(northern_hemisphere[\"Lat\"], northern_hemisphere[\"Humidity\"])\n",
    "\n",
    "# Call a function #2\n",
    "annotate(equation, 0, 0)\n",
    "\n",
    "# Set a title\n",
    "plt.title(\"Northern Hemisphere - Humidity vs. Latitude Linear Regression\")\n",
    "\n",
    "# Set xlabel\n",
    "plt.xlabel(\"Latitude\")\n",
    "\n",
    "# Set ylabel\n",
    "plt.ylabel(\"Humidity\")\n",
    "\n",
    "# Save the figure\n",
    "plt.savefig(\"../Images/Northern Hemisphere - Humidity vs. Latitude Linear Regression.png\")"
   ]
  },
  {
   "cell_type": "markdown",
   "metadata": {},
   "source": [
    "In the Northern Hemisphere for the plot between the humidity and latitide \n",
    "the r-squared depicts the strenghth of the correlation as a weak negative correlation between latitude and humidity. "
   ]
  },
  {
   "cell_type": "markdown",
   "metadata": {},
   "source": [
    "####  Southern Hemisphere - Humidity (%) vs. Latitude Linear Regression"
   ]
  },
  {
   "cell_type": "code",
   "execution_count": 58,
   "metadata": {},
   "outputs": [
    {
     "name": "stdout",
     "output_type": "stream",
     "text": [
      "The r-squared is: 0.09431175260080445\n"
     ]
    },
    {
     "data": {
      "image/png": "[encoded data removed]",
      "text/plain": [
       "<Figure size 432x288 with 1 Axes>"
      ]
     },
     "metadata": {
      "needs_background": "light"
     },
     "output_type": "display_data"
    }
   ],
   "source": [
    "# Call a function #1\n",
    "equation = linear_regression(southern_hemisphere[\"Lat\"], southern_hemisphere[\"Humidity\"])\n",
    "\n",
    "# Call a function #2\n",
    "annotate(equation, 0, 0)\n",
    "\n",
    "# Set a title\n",
    "plt.title(\"Southern Hemisphere - Humidity vs. Latitude Linear Regression\")\n",
    "\n",
    "# Set xlabel\n",
    "plt.xlabel(\"Latitude\")\n",
    "\n",
    "# Set ylabel\n",
    "plt.ylabel(\"Humidity\")\n",
    "\n",
    "# Save the figure\n",
    "plt.savefig(\"../Images/Southern Hemisphere - Humidity vs. Latitude Linear Regression.png\")"
   ]
  },
  {
   "cell_type": "markdown",
   "metadata": {},
   "source": [
    "In the southern hemisphere in the plot between humidity and latitude, \n",
    "the r-square depicts the strength of the correlation as \n",
    "a very weak positive correlation between humidity and latitude. \n"
   ]
  },
  {
   "cell_type": "markdown",
   "metadata": {},
   "source": [
    "####  Northern Hemisphere - Cloudiness (%) vs. Latitude Linear Regression"
   ]
  },
  {
   "cell_type": "code",
   "execution_count": 60,
   "metadata": {},
   "outputs": [
    {
     "name": "stdout",
     "output_type": "stream",
     "text": [
      "The r-squared is: 0.21635918352104055\n"
     ]
    },
    {
     "data": {
      "image/png": "[encoded data removed]",
      "text/plain": [
       "<Figure size 432x288 with 1 Axes>"
      ]
     },
     "metadata": {
      "needs_background": "light"
     },
     "output_type": "display_data"
    }
   ],
   "source": [
    "# Call a function #1\n",
    "equation = linear_regression(northern_hemisphere[\"Lat\"], northern_hemisphere[\"Cloudiness\"])\n",
    "\n",
    "# Call a function #2\n",
    "annotate(equation, 0, 0)\n",
    "\n",
    "# Set a title\n",
    "plt.title(\"Northern Hemisphere - Cloudiness vs. Latitude Linear Regression\")\n",
    "\n",
    "# Set xlabel\n",
    "plt.xlabel(\"Latitude\")\n",
    "\n",
    "# Set ylabel\n",
    "plt.ylabel(\"Cloudiness\")\n",
    "\n",
    "# Save the figure\n",
    "plt.savefig(\"../Images/Northern Hemisphere - Cloudiness vs. Latitude Linear Regression.png\")"
   ]
  },
  {
   "cell_type": "markdown",
   "metadata": {},
   "source": [
    "In the Northern Hemisphere for the plot between the Cloudiness and latitide \n",
    "the r-squared depicts the strength of the correlation as a weak positive correlation between cloudiness and latitude. "
   ]
  },
  {
   "cell_type": "markdown",
   "metadata": {},
   "source": [
    "####  Southern Hemisphere - Cloudiness (%) vs. Latitude Linear Regression"
   ]
  },
  {
   "cell_type": "code",
   "execution_count": 62,
   "metadata": {},
   "outputs": [
    {
     "name": "stdout",
     "output_type": "stream",
     "text": [
      "The r-squared is: 0.1444371640106191\n"
     ]
    },
    {
     "data": {
      "image/png": "[encoded data removed]",
      "text/plain": [
       "<Figure size 432x288 with 1 Axes>"
      ]
     },
     "metadata": {
      "needs_background": "light"
     },
     "output_type": "display_data"
    }
   ],
   "source": [
    "# Call a function #1\n",
    "equation = linear_regression(southern_hemisphere[\"Lat\"], southern_hemisphere[\"Cloudiness\"])\n",
    "\n",
    "# Call a function #2\n",
    "annotate(equation, 0, 0)\n",
    "\n",
    "# Set a title\n",
    "plt.title(\"Southern Hemisphere - Cloudiness vs. Latitude Linear Regression\")\n",
    "\n",
    "# Set xlabel\n",
    "plt.xlabel(\"Latitude\")\n",
    "\n",
    "# Set ylabel\n",
    "plt.ylabel(\"Cloudiness\")\n",
    "\n",
    "# Save the figure\n",
    "plt.savefig(\"../Images/Southern Hemisphere - Cloudiness vs. Latitude Linear Regression.png\")"
   ]
  },
  {
   "cell_type": "markdown",
   "metadata": {},
   "source": [
    "In the southern hemisphere in the plot between humidity and latitude, \n",
    "the r-square depicts the strength of the correlation as \n",
    "a weak positive correlation between humidity and latitude. "
   ]
  },
  {
   "cell_type": "markdown",
   "metadata": {},
   "source": [
    "####  Northern Hemisphere - Wind Speed (mph) vs. Latitude Linear Regression"
   ]
  },
  {
   "cell_type": "code",
   "execution_count": 63,
   "metadata": {},
   "outputs": [
    {
     "name": "stdout",
     "output_type": "stream",
     "text": [
      "The r-squared is: 0.013997342504074918\n"
     ]
    },
    {
     "data": {
      "image/png": "[encoded data removed]",
      "text/plain": [
       "<Figure size 432x288 with 1 Axes>"
      ]
     },
     "metadata": {
      "needs_background": "light"
     },
     "output_type": "display_data"
    }
   ],
   "source": [
    "# Call a function #1\n",
    "equation = linear_regression(northern_hemisphere[\"Lat\"], northern_hemisphere[\"Wind Speed\"])\n",
    "\n",
    "# Call a function #2\n",
    "annotate(equation, 0, 0)\n",
    "\n",
    "# Set a title\n",
    "plt.title(\"Northern Hemisphere - Wind Speed vs. Latitude Linear Regression\")\n",
    "\n",
    "# Set xlabel\n",
    "plt.xlabel(\"Latitude\")\n",
    "\n",
    "# Set ylabel\n",
    "plt.ylabel(\"Wind Speed\")\n",
    "\n",
    "# Save the figure\n",
    "plt.savefig(\"../Images/Northern Hemisphere - Wind Speed vs. Latitude Linear Regression.png\")"
   ]
  },
  {
   "cell_type": "markdown",
   "metadata": {},
   "source": [
    "In the Northern Hemisphere for the plot between the wind speed and latitide \n",
    "the r-squared depicts the strength of the correlation as a very weak positive correlation between wind speed and latitude. "
   ]
  },
  {
   "cell_type": "markdown",
   "metadata": {},
   "source": [
    "####  Southern Hemisphere - Wind Speed (mph) vs. Latitude Linear Regression"
   ]
  },
  {
   "cell_type": "code",
   "execution_count": 65,
   "metadata": {},
   "outputs": [
    {
     "name": "stdout",
     "output_type": "stream",
     "text": [
      "The r-squared is: -0.08963729513133797\n"
     ]
    },
    {
     "data": {
      "image/png": "[encoded data removed]",
      "text/plain": [
       "<Figure size 432x288 with 1 Axes>"
      ]
     },
     "metadata": {
      "needs_background": "light"
     },
     "output_type": "display_data"
    }
   ],
   "source": [
    "# Call a function #1\n",
    "equation = linear_regression(southern_hemisphere[\"Lat\"], southern_hemisphere[\"Wind Speed\"])\n",
    "\n",
    "# Call a function #2\n",
    "annotate(equation, 0, 0)\n",
    "\n",
    "# Set a title\n",
    "plt.title(\"Southern Hemisphere - Wind Speed vs. Latitude Linear Regression\")\n",
    "\n",
    "# Set xlabel\n",
    "plt.xlabel(\"Latitude\")\n",
    "\n",
    "# Set ylabel\n",
    "plt.ylabel(\"Wind Speed\")\n",
    "\n",
    "# Save the figure\n",
    "plt.savefig(\"../Images/Southern Hemisphere - Wind Speed vs. Latitude Linear Regression.png\")"
   ]
  },
  {
   "cell_type": "markdown",
   "metadata": {},
   "source": [
    "In the Southern Hemisphere for the plot between the wind speed and latitide \n",
    "the r-squared depicts the strength of the correlation as a very weak negative correlation between wind speeed and latitude. "
   ]
  },
  {
   "cell_type": "code",
   "execution_count": null,
   "metadata": {},
   "outputs": [],
   "source": []
  }
 ],
 "metadata": {
  "anaconda-cloud": {},
  "kernel_info": {
   "name": "python3"
  },
  "kernelspec": {
   "display_name": "Python 3",
   "language": "python",
   "name": "python3"
  },
  "language_info": {
   "codemirror_mode": {
    "name": "ipython",
    "version": 3
   },
   "file_extension": ".py",
   "mimetype": "text/x-python",
   "name": "python",
   "nbconvert_exporter": "python",
   "pygments_lexer": "ipython3",
   "version": "3.8.3"
  },
  "latex_envs": {
   "LaTeX_envs_menu_present": true,
   "autoclose": false,
   "autocomplete": true,
   "bibliofile": "biblio.bib",
   "cite_by": "apalike",
   "current_citInitial": 1,
   "eqLabelWithNumbers": true,
   "eqNumInitial": 1,
   "hotkeys": {
    "equation": "Ctrl-E",
    "itemize": "Ctrl-I"
   },
   "labels_anchors": false,
   "latex_user_defs": false,
   "report_style_numbering": false,
   "user_envs_cfg": false
  },
  "nteract": {
   "version": "0.12.3"
  }
 },
 "nbformat": 4,
 "nbformat_minor": 2
}
